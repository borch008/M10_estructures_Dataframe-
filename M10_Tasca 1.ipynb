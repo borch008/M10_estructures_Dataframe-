{
 "cells": [
  {
   "cell_type": "markdown",
   "id": "f0edf0bc",
   "metadata": {},
   "source": [
    "# Exercici 1\n",
    "> Realitza web scraping de dues de les tres pàgines web proposades utilitzant BeautifulSoup primer i Selenium després. \n",
    ">  - http://quotes.toscrape.com\n",
    ">  - https://www.bolsamadrid.es\n",
    ">  - www.wikipedia.es (fes alguna cerca primer i escrapeja algun contingut)"
   ]
  },
  {
   "cell_type": "markdown",
   "id": "dc0fbae6",
   "metadata": {},
   "source": [
    "Les webs que he escollit per fer el scraping seran **Quotes.toscrape** i **wikipedia**\n",
    "\n",
    "### [Quotes to Scrape (1)](http://quotes.toscrape.com)\n",
    "\n",
    "+ Es tracta d'una pàgina de cites per persones famoses. \n",
    "+ Cada cita te diverses etiquetes relacionades amb el text. \n",
    "+ Tens l'opció de clicar un link (about) per saber més sobre l'autor de cada cita.\n",
    "+ Tens l'opció d'anar a la següent pàgina o anterior clicant un link.\n",
    "+ Cada pàgina te 10 ciutes\n",
    "\n",
    "#### PAS 1 -> Examinar la web amb les developers tools (mas herramientes del teu navegador i herramientas para desarrolladores)"
   ]
  },
  {
   "cell_type": "code",
   "execution_count": 1,
   "id": "ed977eea",
   "metadata": {},
   "outputs": [],
   "source": [
    "# Import basic libraries\n",
    "import numpy as np\n",
    "import pandas as pd\n",
    "\n",
    "# Import scrapping libraries\n",
    "import requests\n",
    "from bs4 import BeautifulSoup\n",
    "from selenium import webdriver\n",
    "from selenium.webdriver.common.keys import Keys\n",
    "from selenium.webdriver.common.by import By"
   ]
  },
  {
   "cell_type": "code",
   "execution_count": 2,
   "id": "a737270b",
   "metadata": {},
   "outputs": [],
   "source": [
    "# Create an object with the URL and get that\n",
    "URL = \"http://quotes.toscrape.com\"\n",
    "page = requests.get(URL)"
   ]
  },
  {
   "cell_type": "code",
   "execution_count": null,
   "id": "4686ea29",
   "metadata": {},
   "outputs": [],
   "source": [
    "# Show status (as it takes good the url or show the code error to know more about it) and page code\n",
    "print(page.status_code,\"\\n\\n\", page.text) ## No ho imprimeixo per no allargar el document al github"
   ]
  },
  {
   "cell_type": "markdown",
   "id": "c27f0fdb",
   "metadata": {},
   "source": [
    "**OBSERVACIONS INICIALS**\n",
    "\n",
    "Tant si ho veiem directament a la pàgina web amb les developer tools com si ho veiem aquí, en el nostre notebook ja podem observar algunes estructures que ens ajudara a crear les funcions per anar \"netejant\" o extreure només la infomració de la data que ens interessa. \n",
    "Personalment aquesta primera fase o pas 0, em sembla més fàcil fer-lo a la pàgina web.\n",
    "   + **< html lang = \"en\" >**: Dedueixo que ens indica el idioma en el que esta escrita la pàgina \n",
    "   + **< head >**: veiem que es el codi pel titol de la pàgina on destaca el codi _< title >_ que mostra el titol\n",
    "   + **< body >**: ens mostra la part principal de la pàgina\n",
    "   + **< div class>**: separa per l'atribut calsse i la seva key (=\"xx\")\n",
    "   + **< span class=\"text\" itemprop=\"text\">**: Dins d'aquest codi trobem el text de les cites\n",
    "   + **< small class=\"author\" itemprop=\"author\">**: Dins de la mateixa divisió de class ens mostra un altre apartat en aquest cas el nom de l'autor. \n",
    "   + **< a href...>**: aquest es el link que ens portarà a una nova pàgina per més informació de l'autor si cliquem _about_\n",
    "\n",
    "En conclusió veiiem que cada cita esta envoltada per l'atribut div class i segons la seva key englobara mes o menys. En aquest cas cada capseta (o cita) es separa per la key \"quote\". Després ens trobem amb span class =\"text\" que és on s'escriu el text principal de la cita. El segueix un altre span (a seques) per afegir la paraula _by_ i donar peu a l'autor amb l'atribut small _class = \"author\"_. Per poder linkar el about a una ampliació de la informació del autor s'utilitza el cod a href per refereciar la nova pàgina web (si veus és la part final que surt a la barra del navegador quan cliques al link i t'obre la pàgina). I acabar amb una nova key per les tags i tancant la divisió (< / div>)\n",
    "\n",
    "**BEAUTIFUL SOUP**"
   ]
  },
  {
   "cell_type": "code",
   "execution_count": 3,
   "id": "df59b809",
   "metadata": {},
   "outputs": [],
   "source": [
    "# take HTML code scraper before and be sure to use the correct parser for that HTML contain\n",
    "soup_quotes = BeautifulSoup(page.content, \"html.parser\")"
   ]
  },
  {
   "cell_type": "code",
   "execution_count": 4,
   "id": "2433ea81",
   "metadata": {},
   "outputs": [],
   "source": [
    "# Find Elements by class\n",
    "results_quotes = soup_quotes.find(class_=\"container\")"
   ]
  },
  {
   "cell_type": "code",
   "execution_count": null,
   "id": "5b59d05a",
   "metadata": {},
   "outputs": [],
   "source": [
    "# Print it\n",
    "print(results_quotes.prettify()) ## No ho imprimeixo per no ocupar quan pugi el fitxer al github"
   ]
  },
  {
   "cell_type": "code",
   "execution_count": 5,
   "id": "bc2a1594",
   "metadata": {},
   "outputs": [
    {
     "name": "stdout",
     "output_type": "stream",
     "text": [
      "Quotes to Scrape\n"
     ]
    }
   ],
   "source": [
    "# Fint title\n",
    "print(soup_quotes.find('title').string)"
   ]
  },
  {
   "cell_type": "code",
   "execution_count": 6,
   "id": "4ead5e20",
   "metadata": {},
   "outputs": [
    {
     "data": {
      "text/plain": [
       "10"
      ]
     },
     "execution_count": 6,
     "metadata": {},
     "output_type": "execute_result"
    }
   ],
   "source": [
    "# Find how many quotes (principal key) are\n",
    "quotes_elements = results_quotes.find_all(\"div\", class_=\"quote\", itemscope=\"\")\n",
    "len(quotes_elements)"
   ]
  },
  {
   "cell_type": "code",
   "execution_count": 7,
   "id": "c0404cdd",
   "metadata": {},
   "outputs": [
    {
     "name": "stdout",
     "output_type": "stream",
     "text": [
      "\u001b[1m“The world as we have created it is a process of our thinking. It cannot be changed without changing our thinking.”\u001b[0m \n",
      " Albert Einstein \n",
      " Tags:\n",
      "            \n",
      "change\n",
      "deep-thoughts\n",
      "thinking\n",
      "world \n",
      "\n",
      "\n",
      "\u001b[1m“It is our choices, Harry, that show what we truly are, far more than our abilities.”\u001b[0m \n",
      " J.K. Rowling \n",
      " Tags:\n",
      "            \n",
      "abilities\n",
      "choices \n",
      "\n",
      "\n",
      "\u001b[1m“There are only two ways to live your life. One is as though nothing is a miracle. The other is as though everything is a miracle.”\u001b[0m \n",
      " Albert Einstein \n",
      " Tags:\n",
      "            \n",
      "inspirational\n",
      "life\n",
      "live\n",
      "miracle\n",
      "miracles \n",
      "\n",
      "\n",
      "\u001b[1m“The person, be it gentleman or lady, who has not pleasure in a good novel, must be intolerably stupid.”\u001b[0m \n",
      " Jane Austen \n",
      " Tags:\n",
      "            \n",
      "aliteracy\n",
      "books\n",
      "classic\n",
      "humor \n",
      "\n",
      "\n",
      "\u001b[1m“Imperfection is beauty, madness is genius and it's better to be absolutely ridiculous than absolutely boring.”\u001b[0m \n",
      " Marilyn Monroe \n",
      " Tags:\n",
      "            \n",
      "be-yourself\n",
      "inspirational \n",
      "\n",
      "\n",
      "\u001b[1m“Try not to become a man of success. Rather become a man of value.”\u001b[0m \n",
      " Albert Einstein \n",
      " Tags:\n",
      "            \n",
      "adulthood\n",
      "success\n",
      "value \n",
      "\n",
      "\n",
      "\u001b[1m“It is better to be hated for what you are than to be loved for what you are not.”\u001b[0m \n",
      " André Gide \n",
      " Tags:\n",
      "            \n",
      "life\n",
      "love \n",
      "\n",
      "\n",
      "\u001b[1m“I have not failed. I've just found 10,000 ways that won't work.”\u001b[0m \n",
      " Thomas A. Edison \n",
      " Tags:\n",
      "            \n",
      "edison\n",
      "failure\n",
      "inspirational\n",
      "paraphrased \n",
      "\n",
      "\n",
      "\u001b[1m“A woman is like a tea bag; you never know how strong it is until it's in hot water.”\u001b[0m \n",
      " Eleanor Roosevelt \n",
      " Tags:\n",
      "            \n",
      "misattributed-eleanor-roosevelt \n",
      "\n",
      "\n",
      "\u001b[1m“A day without sunshine is like, you know, night.”\u001b[0m \n",
      " Steve Martin \n",
      " Tags:\n",
      "            \n",
      "humor\n",
      "obvious\n",
      "simile \n",
      "\n",
      "\n"
     ]
    }
   ],
   "source": [
    "# Create a loop to itirate on 1st page extracting interesting data.\n",
    "for quote_element in quotes_elements:\n",
    "    quotes = quote_element.find(\"span\", class_=\"text\")\n",
    "    author = quote_element.find(\"small\", class_=\"author\")\n",
    "    tags = quote_element.find(\"div\", class_=\"tags\")\n",
    "    print(f\"\\033[1m{quotes.text.strip()}\\033[0m\", \"\\n\", author.text.strip(), \"\\n\", tags.text.strip(), \"\\n\\n\")"
   ]
  },
  {
   "cell_type": "markdown",
   "id": "0e4c57aa",
   "metadata": {},
   "source": [
    "**SELENIUM**"
   ]
  },
  {
   "cell_type": "code",
   "execution_count": 8,
   "id": "6d6f2bf7",
   "metadata": {},
   "outputs": [
    {
     "name": "stdout",
     "output_type": "stream",
     "text": [
      "\u001b[1mTitol:\u001b[0m Quotes to Scrape\n"
     ]
    }
   ],
   "source": [
    "# Call the browser you will use\n",
    "driver = webdriver.Chrome()\n",
    "\n",
    "# Get the URL\n",
    "driver.get(\"http://quotes.toscrape.com/\")\n",
    "\n",
    "#Find Elements\n",
    "quotes = driver.find_elements(By.CLASS_NAME, \"text\")\n",
    "authors = driver.find_elements(By.CLASS_NAME, \"author\")\n",
    "tags = driver.find_elements(By.CLASS_NAME, \"tags\")\n",
    "\n",
    "#Print title of web\n",
    "print(\"\\033[1mTitol:\\033[0m\", driver.title)"
   ]
  },
  {
   "cell_type": "code",
   "execution_count": 9,
   "id": "9d0d2d71",
   "metadata": {},
   "outputs": [
    {
     "name": "stdout",
     "output_type": "stream",
     "text": [
      "\n",
      "1- “The world as we have created it is a process of our thinking. It cannot be changed without changing our thinking.”\n",
      "\n",
      "2- “It is our choices, Harry, that show what we truly are, far more than our abilities.”\n",
      "\n",
      "3- “There are only two ways to live your life. One is as though nothing is a miracle. The other is as though everything is a miracle.”\n",
      "\n",
      "4- “The person, be it gentleman or lady, who has not pleasure in a good novel, must be intolerably stupid.”\n",
      "\n",
      "5- “Imperfection is beauty, madness is genius and it's better to be absolutely ridiculous than absolutely boring.”\n",
      "\n",
      "6- “Try not to become a man of success. Rather become a man of value.”\n",
      "\n",
      "7- “It is better to be hated for what you are than to be loved for what you are not.”\n",
      "\n",
      "8- “I have not failed. I've just found 10,000 ways that won't work.”\n",
      "\n",
      "9- “A woman is like a tea bag; you never know how strong it is until it's in hot water.”\n",
      "\n",
      "10- “A day without sunshine is like, you know, night.”\n"
     ]
    }
   ],
   "source": [
    "# Show text extract from \"text\" key of class_name atrribute\n",
    "for i, quote in enumerate(quotes, 1):\n",
    "    quote = quote.text.strip()\n",
    "    print(f\"\\n{i}- {quote}\")"
   ]
  },
  {
   "cell_type": "code",
   "execution_count": 10,
   "id": "02e1d49c",
   "metadata": {},
   "outputs": [
    {
     "name": "stdout",
     "output_type": "stream",
     "text": [
      "\n",
      "1- Albert Einstein\n",
      "\n",
      "2- J.K. Rowling\n",
      "\n",
      "3- Albert Einstein\n",
      "\n",
      "4- Jane Austen\n",
      "\n",
      "5- Marilyn Monroe\n",
      "\n",
      "6- Albert Einstein\n",
      "\n",
      "7- André Gide\n",
      "\n",
      "8- Thomas A. Edison\n",
      "\n",
      "9- Eleanor Roosevelt\n",
      "\n",
      "10- Steve Martin\n"
     ]
    }
   ],
   "source": [
    "# Show text extract from \"authors\" key of class_name atrribute\n",
    "for i, author in enumerate(authors, 1):\n",
    "    author= author.text.strip()\n",
    "    print(f\"\\n{i}- {author}\")"
   ]
  },
  {
   "cell_type": "code",
   "execution_count": 11,
   "id": "ab11f157",
   "metadata": {},
   "outputs": [
    {
     "name": "stdout",
     "output_type": "stream",
     "text": [
      "\n",
      "1- Tags: change deep-thoughts thinking world\n",
      "\n",
      "2- Tags: abilities choices\n",
      "\n",
      "3- Tags: inspirational life live miracle miracles\n",
      "\n",
      "4- Tags: aliteracy books classic humor\n",
      "\n",
      "5- Tags: be-yourself inspirational\n",
      "\n",
      "6- Tags: adulthood success value\n",
      "\n",
      "7- Tags: life love\n",
      "\n",
      "8- Tags: edison failure inspirational paraphrased\n",
      "\n",
      "9- Tags: misattributed-eleanor-roosevelt\n",
      "\n",
      "10- Tags: humor obvious simile\n"
     ]
    }
   ],
   "source": [
    "# Show text extract from \"tags\" key of class_name atrribute\n",
    "for i, tag in enumerate(tags, 1):\n",
    "    tag = tag.text.strip()\n",
    "    print(f\"\\n{i}- {tag}\")"
   ]
  },
  {
   "cell_type": "code",
   "execution_count": 12,
   "id": "dc9cfb86",
   "metadata": {},
   "outputs": [],
   "source": [
    "# Close browser\n",
    "driver.close()"
   ]
  },
  {
   "cell_type": "markdown",
   "id": "51c497d6",
   "metadata": {},
   "source": [
    "### [Wikipedia - Comunio](https://es.wikipedia.org/wiki/Comunio)\n",
    "\n",
    "+ Es una enciclopedia de contingut lliure que qualsevol persona pot editar\n",
    "+ En aquest cas hem buscat la informació que te sobre Comunio, un joc de futbol bastant conegut. \n",
    "+ Veiem que hi ha varia informació, un index, etc...\n",
    "\n",
    "#### PAS 1 -> Examinar la web amb les developers tools (mas herramientes del teu navegador i herramientas para desarrolladores)\n",
    "\n",
    "**OBSERVACIONS INICIALS**\n",
    "\n",
    "Veiem que el nivell de complexitat d'aquesta pàgina és més gran (al no ser una pàgina específica per practicar). Si que detectem algunes etiquetes que es repeteixen però ha costat més trobar les que utilitzarem:\n",
    "\n",
    "   + **< html lang = \"es\" >**: Dedueixo que ens indica el idioma en el que esta escrita la pàgina \n",
    "   + **< head >**: veiem que es el codi pel titol de la pàgina on destaca el codi _< title >_ que mostra el titol\n",
    "   + **< body class>**: ens mostra la part principal de la pàgina. Engloba quasi tot el codi. \n",
    "   + **< div class>**: separa per l'atribut calsse i la seva key (=\"xx\")\n",
    "   + **< div class=\"mw-page-container\"**: veiem que es on està el text. Aqui seguim trobarant diferent claus dins de l'atribut class. Anirem fent petit el codi fins a trobar les parts que ens interessen.\n",
    "   + **< h2>**: Aqui veiem que podem extreure els diferents titols de cada secció.\n",
    "   + **< p>**: Aquí el text principal de la pàgina.  \n",
    "   + **< a href...>**: aquest es el link que ens portarà a una nova pàgina per més informació de l'autor si cliquem _about_\n",
    "   \n",
    "Un cop més ens ha ajudat les developers tools per identificar on buscar el codi, encara que imprimirlo en el notebook també m'ha ajudat a localitzar els punts que m'interessava treure. Ambdues formes aporta claredat dins del codi. "
   ]
  },
  {
   "cell_type": "code",
   "execution_count": 13,
   "id": "03f1c055",
   "metadata": {},
   "outputs": [],
   "source": [
    "# Create an object with the URL and get that\n",
    "URL = \"https://es.wikipedia.org/wiki/Comunio\"\n",
    "wiki = requests.get(URL)"
   ]
  },
  {
   "cell_type": "code",
   "execution_count": null,
   "id": "8f50bcf3",
   "metadata": {},
   "outputs": [],
   "source": [
    "# Show status (as it takes good the url or show the code error to know more about it) and page code\n",
    "print(wiki.status_code,\"\\n\\n\", wiki.text) ## No ho imprimeixo per no ocupar espai en el github"
   ]
  },
  {
   "cell_type": "code",
   "execution_count": 14,
   "id": "b72fd74d",
   "metadata": {},
   "outputs": [
    {
     "name": "stdout",
     "output_type": "stream",
     "text": [
      "Comunio - Wikipedia, la enciclopedia libre\n"
     ]
    }
   ],
   "source": [
    "# Parse HTML code\n",
    "soup = BeautifulSoup(wiki.text, \"html.parser\")\n",
    "\n",
    "# Show site title\n",
    "print(soup.find('title').string)"
   ]
  },
  {
   "cell_type": "code",
   "execution_count": 15,
   "id": "a1c0e4e2",
   "metadata": {},
   "outputs": [],
   "source": [
    "# Make code of all site shorter to find better what is interesting for us\n",
    "results = soup.find(class_=\"mw-parser-output\")"
   ]
  },
  {
   "cell_type": "code",
   "execution_count": null,
   "id": "1db4c022",
   "metadata": {},
   "outputs": [],
   "source": [
    "# Print it\n",
    "print(results.prettify()) ## No ho imprimeixo per no ocupar espai al Github"
   ]
  },
  {
   "cell_type": "code",
   "execution_count": 16,
   "id": "6284f9ae",
   "metadata": {},
   "outputs": [
    {
     "name": "stdout",
     "output_type": "stream",
     "text": [
      "Comunio es un videojuego de navegador alemán en el que cada jugador se convierte en gestor de un equipo virtual, pero enlazado con las actuaciones de los deportistas en la realidad.[1]​ El videojuego fue creado en el año 2000 por el desarrollador Fabian Loschek, quien tuvo la idea tras jugar a un mánager de béisbol en los Estados Unidos. Desde su creación, Comunio ha conseguido una gran popularidad en Alemania y en España, en donde llegó a ser una de las 100 páginas más visitadas entre 2010 y 2013.[2]​\n",
      "\n",
      "Durante los primeros dos años, Comunio fue un proyecto financiado exclusivamente por publicidad. Por razones financieras, el juego se dividió en tres variantes de cuenta en 2002: la versión Basic (gratuita) y las versiones premiumm Plus y Pro Player, que tienen características adicionales en comparación con la versión gratuita.[3]​\n",
      "\n",
      "Desde 2004, Comunio ha ido añadiendo nuevos campeonatos y ediciones. En 2004 se incluyó la 2ª Bundesliga, en 2005 la Bundesliga austriaca, en 2006 la Serie A, en 2007 la Primera División de España española, Superliga de Turquía, la Liga de Campeones de la UEFA y en 2008 la serie brasileña A , la Primeira Liga portuguesa y la Premier League. Debido al creciente interés en España, la Segunda División de España española se agregó en 2009. Desde 2010, la Ligue 1 francesa está también disponible. En 2007, el principio del juego se transfirió a otros deportes, y se ofreció una edición con cuatro disciplinas de deportes de invierno (biatlón, esquí alpino, nórdico combinado y saltos de esquí). En mayo de 2009, se lanzó la versión beta de la edición de Fórmula 1 ComunioGP. A principios de 2011, ambas variantes ya no están en la versión beta y están activas. \n",
      "\n",
      "Hasta verano de 2017, los puntos de los futbolistas de la edición de la Primera División y Segunda División española eran otorgados por el diario AS. El 2 de agosto de 2017, se anunció que la empresa estadística Sportradar era el nuevo socio para las calificaciones de los jugadores en Comunio de Primera División y SofaScore para la Segunda División. Desde verano de 2018, todas las ediciones del juego están valoradas por la conocida app y web de resultados y estadísticas deportivas SofaScore.\n",
      "\n",
      "El objetivo principal del juego es obtener la mayor cantidad de puntos en la comunidad en la que se juegue. Para ello, puede comenzar el juego con amigos, conocidos o personas desconocidas que hayan encontrado su propia comunidad o se hayan unido a una comunidad privada. Al principio, cada jugador obtiene, según el estilo de juego, un equipo de 15 jugadores de fútbol de la Primera División y 20 millones de dinero ficticio, o ningún equipo y 40 millones de dinero ficticio. Cada jugador intenta mejorar su equipo comprando y vendiendo jugadores con un capital inicial limitado. Esto requiere no solo experiencia y visión del fútbol, sino también suerte y mostrar una gran habilidad financiera y diplomática, ya que cada jugador de Primera División sólo está una vez disponible en cada comunidad. Se pueden comprar y vender jugadores a otros miembros de la comunidad o al ordenador, quien, dependiendo de la configuración establecida en la comunidad, agrega nuevos jugadores al mercado de fichajes diariamente o varias veces a la semana para que los usuarios puedan pujar. \n",
      "\n",
      "Una piedra angular del juego es el cambio diario de los valores de mercado de los jugadores. Estos están orientados, al igual que en una economía de libre mercado, a la oferta y la demanda. Por ejemplo, los \"jugadores estrella\" que anotan muchos goles valen mucho más que la mayoría de los otros jugadores. Cuando un jugador se lesiona, es vendido por muchos jugadores y pierde valor.\n",
      "\n",
      "El ganador en Comunio es el usuario que obtenga más puntos al final de la temporada. Los puntos se calculan una vez acabada cada jornada de Liga teniendo en cuenta el once confirmado por cada usuario y los puntos obtenidos por cada jugador en él mismo. Los puntos que suma cada jugador dependen de las calificaciones  otorgadas por el medio que califica el juego, los goles marcados (+5 para los defensas, +4 para centrocampistas, +3 para delanteros, +3 gol de penalti), asistencias, penaltis parados y las expulsiones por doble amonestación (-3 puntos) o roja directa (-6 puntos).\n",
      "\n",
      "En 2005, se implementó un servicio web basado en SOAP para permitir el desarrollo externo de servicios auxiliares. Desde entonces, hay ofertas impulsadas por la competencia, como trofeos internos y comunitarios, páginas de estadísticas[4]​ y blogs. Algunas funciones del servicio web sólo se pueden usar como características del modo premium. \n",
      "\n",
      "Además, se ofrecen varios campeonatos de Copa en toda la comunidad (generalmente independientes del servicio web) en los que las comunidades pueden competir entre sí. La gran comunidad activa y comunicativa que tiene Comunio es una de sus principales fuerzas. Muchos fanes hablan cada jornada de Liga sobre el juego en redes sociales o diversos foros y blogs.\n",
      "\n",
      "Hay webs que dan un complemento añadido a Comunio, como es el caso de la web Comstats, Comunio Magazine o www.comuniate.com, dónde jornada tras jornada dan directos de los partidos, puntuación Comunio de los jugadores y la clasificación en tiempo real.\n",
      "\n",
      "Debido al gran éxito de Comunio,[5]​ desde el año 2009 aparecieron en España numerosos juegos que copiaron su idea con pequeñas variaciones. Las diferencias generalmente consisten en características individuales y diferentes escalas y proveedores de calificación, pero manteniendo la idea original de Comunio con respecto al mercado de fichajes y valores de mercado. Por dicho motivo, la mayoría de jugadores de juegos de mánager en línea en España se refieren con la palabra \"Comunio\" a este tipo de juegos. \n",
      "\n",
      "Los mánagers similares a Comunio más jugados y que han aparecido tras su éxito son Netliga (2009), Futmondo (2012), Biwenger (2015), LaLiga Fantasy (antigua Liga fantástica del diario deportivo MARCA) y Mister (2013).\n",
      "\n"
     ]
    }
   ],
   "source": [
    "# Extract text from code thanks of p HTML tag\n",
    "for p in results.find_all(\"p\"):\n",
    "    text_com = p.text\n",
    "    print(text_com)"
   ]
  },
  {
   "cell_type": "code",
   "execution_count": 17,
   "id": "41a1e22d",
   "metadata": {},
   "outputs": [
    {
     "name": "stdout",
     "output_type": "stream",
     "text": [
      "Historia\n",
      "Reglas del juego\n",
      "Servicios adicionales\n",
      "Principios de juego similares\n",
      "Referencias\n"
     ]
    }
   ],
   "source": [
    "# Extract section title from code thanks of \"span\" attribute and h2 HTML tag\n",
    "for h2 in results.find_all(\"h2\"):\n",
    "    titol = h2.span.text\n",
    "    print(titol)"
   ]
  },
  {
   "cell_type": "code",
   "execution_count": 18,
   "id": "51be3eab",
   "metadata": {},
   "outputs": [
    {
     "name": "stdout",
     "output_type": "stream",
     "text": [
      "Comunio es un videojuego de navegador alemán en el que cada jugador se convierte en gestor de un equipo virtual, pero enlazado con las actuaciones de los deportistas en la realidad.[1]​ El videojuego fue creado en el año 2000 por el desarrollador Fabian Loschek, quien tuvo la idea tras jugar a un mánager de béisbol en los Estados Unidos. Desde su creación, Comunio ha conseguido una gran popularidad en Alemania y en España, en donde llegó a ser una de las 100 páginas más visitadas entre 2010 y 2013.[2]​\n",
      "\n",
      "\u001b[1mHistoria\u001b[0m\n",
      "Durante los primeros dos años, Comunio fue un proyecto financiado exclusivamente por publicidad. Por razones financieras, el juego se dividió en tres variantes de cuenta en 2002: la versión Basic (gratuita) y las versiones premiumm Plus y Pro Player, que tienen características adicionales en comparación con la versión gratuita.[3]​\n",
      "\n",
      "Desde 2004, Comunio ha ido añadiendo nuevos campeonatos y ediciones. En 2004 se incluyó la 2ª Bundesliga, en 2005 la Bundesliga austriaca, en 2006 la Serie A, en 2007 la Primera División de España española, Superliga de Turquía, la Liga de Campeones de la UEFA y en 2008 la serie brasileña A , la Primeira Liga portuguesa y la Premier League. Debido al creciente interés en España, la Segunda División de España española se agregó en 2009. Desde 2010, la Ligue 1 francesa está también disponible. En 2007, el principio del juego se transfirió a otros deportes, y se ofreció una edición con cuatro disciplinas de deportes de invierno (biatlón, esquí alpino, nórdico combinado y saltos de esquí). En mayo de 2009, se lanzó la versión beta de la edición de Fórmula 1 ComunioGP. A principios de 2011, ambas variantes ya no están en la versión beta y están activas. \n",
      "\n",
      "Hasta verano de 2017, los puntos de los futbolistas de la edición de la Primera División y Segunda División española eran otorgados por el diario AS. El 2 de agosto de 2017, se anunció que la empresa estadística Sportradar era el nuevo socio para las calificaciones de los jugadores en Comunio de Primera División y SofaScore para la Segunda División. Desde verano de 2018, todas las ediciones del juego están valoradas por la conocida app y web de resultados y estadísticas deportivas SofaScore.\n",
      "\n",
      "\u001b[1mReglas del juego\u001b[0m\n",
      "El objetivo principal del juego es obtener la mayor cantidad de puntos en la comunidad en la que se juegue. Para ello, puede comenzar el juego con amigos, conocidos o personas desconocidas que hayan encontrado su propia comunidad o se hayan unido a una comunidad privada. Al principio, cada jugador obtiene, según el estilo de juego, un equipo de 15 jugadores de fútbol de la Primera División y 20 millones de dinero ficticio, o ningún equipo y 40 millones de dinero ficticio. Cada jugador intenta mejorar su equipo comprando y vendiendo jugadores con un capital inicial limitado. Esto requiere no solo experiencia y visión del fútbol, sino también suerte y mostrar una gran habilidad financiera y diplomática, ya que cada jugador de Primera División sólo está una vez disponible en cada comunidad. Se pueden comprar y vender jugadores a otros miembros de la comunidad o al ordenador, quien, dependiendo de la configuración establecida en la comunidad, agrega nuevos jugadores al mercado de fichajes diariamente o varias veces a la semana para que los usuarios puedan pujar. \n",
      "\n",
      "Una piedra angular del juego es el cambio diario de los valores de mercado de los jugadores. Estos están orientados, al igual que en una economía de libre mercado, a la oferta y la demanda. Por ejemplo, los \"jugadores estrella\" que anotan muchos goles valen mucho más que la mayoría de los otros jugadores. Cuando un jugador se lesiona, es vendido por muchos jugadores y pierde valor.\n",
      "\n",
      "El ganador en Comunio es el usuario que obtenga más puntos al final de la temporada. Los puntos se calculan una vez acabada cada jornada de Liga teniendo en cuenta el once confirmado por cada usuario y los puntos obtenidos por cada jugador en él mismo. Los puntos que suma cada jugador dependen de las calificaciones  otorgadas por el medio que califica el juego, los goles marcados (+5 para los defensas, +4 para centrocampistas, +3 para delanteros, +3 gol de penalti), asistencias, penaltis parados y las expulsiones por doble amonestación (-3 puntos) o roja directa (-6 puntos).\n",
      "\n",
      "\u001b[1mServicios adicionales\u001b[0m\n",
      "En 2005, se implementó un servicio web basado en SOAP para permitir el desarrollo externo de servicios auxiliares. Desde entonces, hay ofertas impulsadas por la competencia, como trofeos internos y comunitarios, páginas de estadísticas[4]​ y blogs. Algunas funciones del servicio web sólo se pueden usar como características del modo premium. \n",
      "\n",
      "Además, se ofrecen varios campeonatos de Copa en toda la comunidad (generalmente independientes del servicio web) en los que las comunidades pueden competir entre sí. La gran comunidad activa y comunicativa que tiene Comunio es una de sus principales fuerzas. Muchos fanes hablan cada jornada de Liga sobre el juego en redes sociales o diversos foros y blogs.\n",
      "\n",
      "Hay webs que dan un complemento añadido a Comunio, como es el caso de la web Comstats, Comunio Magazine o www.comuniate.com, dónde jornada tras jornada dan directos de los partidos, puntuación Comunio de los jugadores y la clasificación en tiempo real.\n",
      "\n",
      "\u001b[1mPrincipios de juego similares\u001b[0m\n",
      "Debido al gran éxito de Comunio,[5]​ desde el año 2009 aparecieron en España numerosos juegos que copiaron su idea con pequeñas variaciones. Las diferencias generalmente consisten en características individuales y diferentes escalas y proveedores de calificación, pero manteniendo la idea original de Comunio con respecto al mercado de fichajes y valores de mercado. Por dicho motivo, la mayoría de jugadores de juegos de mánager en línea en España se refieren con la palabra \"Comunio\" a este tipo de juegos. \n",
      "\n",
      "Los mánagers similares a Comunio más jugados y que han aparecido tras su éxito son Netliga (2009), Futmondo (2012), Biwenger (2015), LaLiga Fantasy (antigua Liga fantástica del diario deportivo MARCA) y Mister (2013).\n",
      "\n",
      "\u001b[1mReferencias\u001b[0m\n"
     ]
    }
   ],
   "source": [
    "# Crate a bucle to have all text separate with titles\n",
    "for text_com in results.find_all(['h2', 'p']):\n",
    "    if text_com.name == 'h2':\n",
    "        # Es un título\n",
    "        titol = f\"\\033[1m{text_com.span.text}\\033[0m\"\n",
    "        print(titol)\n",
    "    elif text_com.name == 'p':\n",
    "        # Es contenido\n",
    "        comunio = text_com.text\n",
    "        print(comunio)"
   ]
  },
  {
   "cell_type": "markdown",
   "id": "b328d4ba",
   "metadata": {},
   "source": [
    "**SELENIUM**"
   ]
  },
  {
   "cell_type": "code",
   "execution_count": 19,
   "id": "bc9b1e72",
   "metadata": {},
   "outputs": [
    {
     "name": "stdout",
     "output_type": "stream",
     "text": [
      "Comunio - Wikipedia, la enciclopedia libre\n"
     ]
    }
   ],
   "source": [
    "# Call the browser you will use\n",
    "driver = webdriver.Chrome()\n",
    "\n",
    "# Get the URL\n",
    "driver.get(\"https://es.wikipedia.org/wiki/Comunio\")\n",
    "\n",
    "# Print title\n",
    "print(driver.title)"
   ]
  },
  {
   "cell_type": "code",
   "execution_count": 20,
   "id": "f19872ea",
   "metadata": {},
   "outputs": [
    {
     "name": "stdout",
     "output_type": "stream",
     "text": [
      "\n",
      " Comunio es un videojuego de navegador alemán en el que cada jugador se convierte en gestor de un equipo virtual, pero enlazado con las actuaciones de los deportistas en la realidad.1 El videojuego fue creado en el año 2000 por el desarrollador Fabian Loschek, quien tuvo la idea tras jugar a un mánager de béisbol en los Estados Unidos. Desde su creación, Comunio ha conseguido una gran popularidad en Alemania y en España, en donde llegó a ser una de las 100 páginas más visitadas entre 2010 y 2013.2\n",
      "\n",
      " Durante los primeros dos años, Comunio fue un proyecto financiado exclusivamente por publicidad. Por razones financieras, el juego se dividió en tres variantes de cuenta en 2002: la versión Basic (gratuita) y las versiones premiumm Plus y Pro Player, que tienen características adicionales en comparación con la versión gratuita.3\n",
      "\n",
      " Desde 2004, Comunio ha ido añadiendo nuevos campeonatos y ediciones. En 2004 se incluyó la 2ª Bundesliga, en 2005 la Bundesliga austriaca, en 2006 la Serie A, en 2007 la Primera División de España española, Superliga de Turquía, la Liga de Campeones de la UEFA y en 2008 la serie brasileña A , la Primeira Liga portuguesa y la Premier League. Debido al creciente interés en España, la Segunda División de España española se agregó en 2009. Desde 2010, la Ligue 1 francesa está también disponible. En 2007, el principio del juego se transfirió a otros deportes, y se ofreció una edición con cuatro disciplinas de deportes de invierno (biatlón, esquí alpino, nórdico combinado y saltos de esquí). En mayo de 2009, se lanzó la versión beta de la edición de Fórmula 1 ComunioGP. A principios de 2011, ambas variantes ya no están en la versión beta y están activas.\n",
      "\n",
      " Hasta verano de 2017, los puntos de los futbolistas de la edición de la Primera División y Segunda División española eran otorgados por el diario AS. El 2 de agosto de 2017, se anunció que la empresa estadística Sportradar era el nuevo socio para las calificaciones de los jugadores en Comunio de Primera División y SofaScore para la Segunda División. Desde verano de 2018, todas las ediciones del juego están valoradas por la conocida app y web de resultados y estadísticas deportivas SofaScore.\n",
      "\n",
      " El objetivo principal del juego es obtener la mayor cantidad de puntos en la comunidad en la que se juegue. Para ello, puede comenzar el juego con amigos, conocidos o personas desconocidas que hayan encontrado su propia comunidad o se hayan unido a una comunidad privada. Al principio, cada jugador obtiene, según el estilo de juego, un equipo de 15 jugadores de fútbol de la Primera División y 20 millones de dinero ficticio, o ningún equipo y 40 millones de dinero ficticio. Cada jugador intenta mejorar su equipo comprando y vendiendo jugadores con un capital inicial limitado. Esto requiere no solo experiencia y visión del fútbol, sino también suerte y mostrar una gran habilidad financiera y diplomática, ya que cada jugador de Primera División sólo está una vez disponible en cada comunidad. Se pueden comprar y vender jugadores a otros miembros de la comunidad o al ordenador, quien, dependiendo de la configuración establecida en la comunidad, agrega nuevos jugadores al mercado de fichajes diariamente o varias veces a la semana para que los usuarios puedan pujar.\n",
      "\n",
      " Una piedra angular del juego es el cambio diario de los valores de mercado de los jugadores. Estos están orientados, al igual que en una economía de libre mercado, a la oferta y la demanda. Por ejemplo, los \"jugadores estrella\" que anotan muchos goles valen mucho más que la mayoría de los otros jugadores. Cuando un jugador se lesiona, es vendido por muchos jugadores y pierde valor.\n",
      "\n",
      " El ganador en Comunio es el usuario que obtenga más puntos al final de la temporada. Los puntos se calculan una vez acabada cada jornada de Liga teniendo en cuenta el once confirmado por cada usuario y los puntos obtenidos por cada jugador en él mismo. Los puntos que suma cada jugador dependen de las calificaciones otorgadas por el medio que califica el juego, los goles marcados (+5 para los defensas, +4 para centrocampistas, +3 para delanteros, +3 gol de penalti), asistencias, penaltis parados y las expulsiones por doble amonestación (-3 puntos) o roja directa (-6 puntos).\n",
      "\n",
      " En 2005, se implementó un servicio web basado en SOAP para permitir el desarrollo externo de servicios auxiliares. Desde entonces, hay ofertas impulsadas por la competencia, como trofeos internos y comunitarios, páginas de estadísticas4 y blogs. Algunas funciones del servicio web sólo se pueden usar como características del modo premium.\n",
      "\n",
      " Además, se ofrecen varios campeonatos de Copa en toda la comunidad (generalmente independientes del servicio web) en los que las comunidades pueden competir entre sí. La gran comunidad activa y comunicativa que tiene Comunio es una de sus principales fuerzas. Muchos fanes hablan cada jornada de Liga sobre el juego en redes sociales o diversos foros y blogs.\n",
      "\n",
      " Hay webs que dan un complemento añadido a Comunio, como es el caso de la web Comstats, Comunio Magazine o www.comuniate.com, dónde jornada tras jornada dan directos de los partidos, puntuación Comunio de los jugadores y la clasificación en tiempo real.\n",
      "\n",
      " Debido al gran éxito de Comunio,5 desde el año 2009 aparecieron en España numerosos juegos que copiaron su idea con pequeñas variaciones. Las diferencias generalmente consisten en características individuales y diferentes escalas y proveedores de calificación, pero manteniendo la idea original de Comunio con respecto al mercado de fichajes y valores de mercado. Por dicho motivo, la mayoría de jugadores de juegos de mánager en línea en España se refieren con la palabra \"Comunio\" a este tipo de juegos.\n",
      "\n",
      " Los mánagers similares a Comunio más jugados y que han aparecido tras su éxito son Netliga (2009), Futmondo (2012), Biwenger (2015), LaLiga Fantasy (antigua Liga fantástica del diario deportivo MARCA) y Mister (2013).\n"
     ]
    }
   ],
   "source": [
    "# Find <p> elements\n",
    "p_elements = driver.find_elements(By.TAG_NAME, 'p')\n",
    "\n",
    "# print text foer each <p> element\n",
    "for p_element in p_elements:\n",
    "    text_coms = p_element.text\n",
    "    print(\"\\n\", text_coms)"
   ]
  },
  {
   "cell_type": "code",
   "execution_count": 21,
   "id": "60c143a8",
   "metadata": {},
   "outputs": [
    {
     "name": "stdout",
     "output_type": "stream",
     "text": [
      "\n",
      " Contenidos\n",
      "\n",
      " Historia[editar]\n",
      "\n",
      " Reglas del juego[editar]\n",
      "\n",
      " Servicios adicionales[editar]\n",
      "\n",
      " Principios de juego similares[editar]\n",
      "\n",
      " Referencias[editar]\n"
     ]
    }
   ],
   "source": [
    "# Find all <h2> elements \n",
    "h2_elements = driver.find_elements(By.TAG_NAME, 'h2')\n",
    "\n",
    "# print h2 elements\n",
    "for h2_element in h2_elements:\n",
    "    titol_s = h2_element.text\n",
    "    print(\"\\n\", titol_s)\n",
    "\n",
    "# Close browser tab\n",
    "driver.close()"
   ]
  },
  {
   "cell_type": "markdown",
   "id": "9655f406",
   "metadata": {},
   "source": [
    "# Exercici 2\n",
    "> Documenta en un Word el teu conjunt de dades generat amb la informació que tenen els diferents arxius de Kaggle.\n",
    "\n",
    "> **Per saber més**:\n",
    "A manera d'exemple del que es demana pots consultar aquest enllaç:\n",
    ">https://www.kaggle.com/datasets/vivovinco/20212022-football-team-stats."
   ]
  },
  {
   "cell_type": "markdown",
   "id": "75d4a3db",
   "metadata": {},
   "source": [
    "# Title: Quotes to Scrape\n",
    "\n",
    "## About Dataset\n",
    "\n",
    "**Context:**\n",
    "This dataset contains quotes of famous people which are tagged depending of the quote.\n",
    "\n",
    "**Content:**\n",
    "-\tThere are 10 quotes of first page. \n",
    "-\tName of the author\n",
    "-\tAlso has some tags relationated with the quote to classify them\n",
    "\n",
    "_Creation date. 08/05/2023_\n",
    "\n",
    "\n",
    "---\n",
    "\n",
    "\n",
    "# Title: Comunio - Wikipedia, la enciclopedia libre\n",
    "\n",
    "## About Dataset\n",
    "\n",
    "**Context:**\n",
    "This dataset cointains information about the popular football game Comunio from Wikipedia\n",
    "\n",
    "**Content:**\n",
    "-\tAbstract of a little introduction of the game. \n",
    "-\t4 Section:\n",
    "     1.\tHistory\n",
    "     2.\tGame Rules\n",
    "     3.\tAditional services\n",
    "     4.\tSimilar games based of this game\n",
    "\n",
    "_Creation date. 08/05/2023_"
   ]
  },
  {
   "cell_type": "markdown",
   "id": "06b1f873",
   "metadata": {},
   "source": [
    "# Exercici 3\n",
    "> Tria una pàgina web que tu vulguis i realitza web scraping mitjançant la llibreria Selenium primer i Scrapy després. \n",
    "\n",
    "Només faré Selenium ja que no tinc temps de fer Scrapy :(. \n",
    "\n",
    "Intentaré extreue el nom de la pàgina i la puntuació que ha obtingut per cada jornada. \n",
    "\n",
    "   + **< html lang =\"es\">**  -> idioma\n",
    "   + **< head>** -> buscar el titol de la site\n",
    "   + **< div class= \"box box-pints\">** -> Classe per extreure el codi que busco\n",
    "   + **< h2>** -> Titol Punts\n",
    "   + **< td class=\"week\">** -> núm jornada \n",
    "   + **< span>** -> punts per jornada"
   ]
  },
  {
   "cell_type": "code",
   "execution_count": 31,
   "id": "6eb6c833",
   "metadata": {},
   "outputs": [
    {
     "name": "stdout",
     "output_type": "stream",
     "text": [
      "Estadísticas de Masip en Comunio | Comuniazo\n"
     ]
    }
   ],
   "source": [
    "# Import library\n",
    "import time\n",
    "\n",
    "# Call the browser you will use\n",
    "driver = webdriver.Chrome()\n",
    "\n",
    "# Get the URL\n",
    "driver.get(\"https://www.comuniazo.com/comunio-apuestas/jugadores/masip\")\n",
    "\n",
    "# Title site\n",
    "print(driver.title)"
   ]
  },
  {
   "cell_type": "code",
   "execution_count": 32,
   "id": "791a12f9",
   "metadata": {},
   "outputs": [
    {
     "name": "stdout",
     "output_type": "stream",
     "text": [
      "\n",
      " Valor de mercado\n",
      "\n",
      " Valor hace…\n",
      "\n",
      " Historial de puntos\n"
     ]
    }
   ],
   "source": [
    "# Find <h2> elements\n",
    "h2_elements = driver.find_elements(By.TAG_NAME, 'h2')\n",
    "\n",
    "# Create a variable to ommit first output -> it is not interesting for us\n",
    "eliminar = True\n",
    "\n",
    "# print text foer each <p> element\n",
    "for h2_element in h2_elements:\n",
    "    if eliminar:\n",
    "        eliminar = False\n",
    "        continue\n",
    "        \n",
    "    sub_title = h2_element.text\n",
    "    print(\"\\n\", sub_title)"
   ]
  },
  {
   "cell_type": "code",
   "execution_count": 33,
   "id": "ea575b96",
   "metadata": {},
   "outputs": [
    {
     "name": "stdout",
     "output_type": "stream",
     "text": [
      "\n",
      " 33\n",
      "2\n",
      "\n",
      " 32\n",
      "-4\n",
      "\n",
      " 31\n",
      "0\n",
      "\n",
      " 30\n",
      "11\n",
      "\n",
      " 29\n",
      "7\n",
      "\n",
      " 28\n",
      "1\n",
      "\n",
      " 27\n",
      "\n",
      " 22\n",
      "6\n",
      "\n",
      " 21\n",
      "10\n",
      "\n",
      " 20\n",
      "9\n",
      "\n",
      " 19\n",
      "8\n",
      "\n",
      " 18\n",
      "4\n",
      "\n",
      " 17\n",
      "13\n",
      "\n",
      " 16\n",
      "4\n",
      "\n",
      " 15\n",
      "6\n",
      "\n",
      " 14\n",
      "1\n",
      "\n",
      " 13\n",
      "2\n",
      "\n",
      " 12\n",
      "10\n",
      "\n",
      " 11\n",
      "7\n",
      "\n",
      " 10\n",
      "10\n",
      "\n",
      " 9\n",
      "3\n",
      "\n",
      " 8\n",
      "8\n",
      "\n",
      " 7\n",
      "11\n",
      "\n",
      " 6\n",
      "\n",
      " 5\n",
      "\n",
      " 4\n",
      "\n",
      " 3\n",
      "3\n",
      "\n",
      " 2\n",
      "\n",
      " 1\n"
     ]
    }
   ],
   "source": [
    "# Find <h2> elements\n",
    "week_elements = driver.find_elements(By.CLASS_NAME, 'tr-points')\n",
    "\n",
    "# print text foer each <p> element\n",
    "for week_element in week_elements:\n",
    "    jornada = week_element.text\n",
    "    time.sleep(1)\n",
    "    print(\"\\n\", jornada)\n"
   ]
  },
  {
   "cell_type": "code",
   "execution_count": 34,
   "id": "1ecd83bb",
   "metadata": {},
   "outputs": [
    {
     "name": "stdout",
     "output_type": "stream",
     "text": [
      "\n",
      " 1 día\n",
      "4.210.000\n",
      "\n",
      " -170k\n",
      "\n",
      " 7 días\n",
      "4.080.000\n",
      "\n",
      " -40k\n",
      "\n",
      " 1 mes\n",
      "3.500.000\n",
      "\n",
      " +540k\n",
      "\n",
      " 2 años\n",
      "1.380.000\n",
      "\n",
      " +2,7M\n",
      "\n",
      " 22/23\n",
      "5,7 de media\n",
      "\n",
      " 132\n",
      "\n",
      " 20/21\n",
      "3,6 de media\n",
      "\n",
      " 90\n",
      "\n",
      " 19/20\n",
      "3,8 de media\n",
      "\n",
      " 132\n",
      "\n",
      " 18/19\n",
      "3,8 de media\n",
      "\n",
      " 132\n",
      "\n",
      " 14/15\n",
      "2,0 de media\n",
      "\n",
      " 2\n"
     ]
    }
   ],
   "source": [
    "# Find <h2> elements\n",
    "week_elements = driver.find_elements(By.CLASS_NAME, 'cell')\n",
    "\n",
    "# print text foer each <p> element\n",
    "for week_element in week_elements:\n",
    "    jornada = week_element.text\n",
    "    time.sleep(1)\n",
    "    print(\"\\n\", jornada)\n"
   ]
  },
  {
   "cell_type": "code",
   "execution_count": 35,
   "id": "caa0fad5",
   "metadata": {},
   "outputs": [],
   "source": [
    "# Close tab browser\n",
    "driver.close()"
   ]
  },
  {
   "cell_type": "markdown",
   "id": "6ccdfdd2",
   "metadata": {},
   "source": [
    "**CONCLUSIONS**\n",
    "\n",
    "He vist que amb _selenium_ és molt més senzill extreure la dada que ens interessa sense tenir que fixar-nos tant amb l'estructura de la pàgina web. No cal ser tan detallat. En canvi amb _BeautifulSoup_ s'ha d'entendre millor l'estructura de la pàgina web però per altra banda el resultat li pots donar més forma o en un mateix output (com hem vist amb els exemples del primer exercici). \n",
    "\n",
    "En aquest tercer exercici m'he trobat amb un problema i es que el meu bucle tot i que em funcionava a partir de certa iteració m'ha deixat de mostrar text... Revisant el codi amb les developer tools he vist que la diferencia esta en el codi, que _before:_ deixa d'apareixer i crec que esta relacionat. \n",
    "\n",
    "Al final m'ha sortit... a vegades em surt i a vegades no.."
   ]
  }
 ],
 "metadata": {
  "kernelspec": {
   "display_name": "Python 3 (ipykernel)",
   "language": "python",
   "name": "python3"
  },
  "language_info": {
   "codemirror_mode": {
    "name": "ipython",
    "version": 3
   },
   "file_extension": ".py",
   "mimetype": "text/x-python",
   "name": "python",
   "nbconvert_exporter": "python",
   "pygments_lexer": "ipython3",
   "version": "3.9.13"
  }
 },
 "nbformat": 4,
 "nbformat_minor": 5
}
